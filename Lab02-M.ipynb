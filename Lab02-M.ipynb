{
 "cells": [
  {
   "cell_type": "markdown",
   "metadata": {},
   "source": [
    "# Перед запуском!\n",
    "Для работы matplotlib+ipywidgets необходима библиотека ipympl!"
   ]
  },
  {
   "cell_type": "code",
   "execution_count": 1,
   "metadata": {},
   "outputs": [],
   "source": [
    "pip install ipympl"
   ]
  },
  {
   "cell_type": "code",
   "execution_count": null,
   "metadata": {},
   "outputs": [],
   "source": [
    "pip install opencv-python-headless"
   ]
  },
  {
   "cell_type": "markdown",
   "metadata": {},
   "source": [
    "# Задание №2. Image Enhancement 1\n",
    "1. Загрузите цветное изображение, преобразуйте BGR к RGB и отобразите\n",
    "2. Пребразуйте его к градациям серого\n",
    "3. Постройте гистограмму\n",
    "4. Попробуйте улучшить изображение (в т.ч., ухудшить, и потом улучшить): \n",
    "\t- contrast stretching в заданном диапазоне,\n",
    "\t- equalizeHist,\n",
    "\t- гамма-коррекция, ..."
   ]
  },
  {
   "cell_type": "code",
   "execution_count": 2,
   "metadata": {},
   "outputs": [],
   "source": [
    "import cv2\n",
    "%matplotlib widget\n",
    "from ipywidgets import HBox, VBox, Button, Output, SelectionRangeSlider as srs, ToggleButtons as tb, IntSlider, FloatSlider\n",
    "import matplotlib.pyplot as plt\n",
    "import matplotlib.gridspec as gridspec\n",
    "import numpy as np\n",
    "import urllib\n",
    "\n",
    "req = urllib.request.urlopen('https://upload.wikimedia.org/wikipedia/ru/thumb/2/24/Lenna.png/800px-Lenna.png')\n",
    "arr = np.asarray(bytearray(req.read()), dtype=np.uint8)\n",
    "lena = cv2.imdecode(arr, -1)"
   ]
  },
  {
   "cell_type": "code",
   "execution_count": 3,
   "metadata": {},
   "outputs": [],
   "source": [
    "class Lab():\n",
    "    def __init__(self, img):\n",
    "        self.img_original=img\n",
    "        self.img = self.img_original\n",
    "        self.hist_range=(0, 256)\n",
    "        self.format='BGR'\n",
    "        \n",
    "        self.output=Output(layout = {'height': '80%',\n",
    "                                     'border': '1px solid black'},)\n",
    "        with self.output:\n",
    "            self.fig, self.ax = plt.subplots(figsize=(5, 5), ncols=1, nrows=2, constrained_layout=True)\n",
    "\n",
    "        self.format_b=Button(\n",
    "            description='Сменить формат',\n",
    "            button_style='', # 'success', 'info', 'warning', 'danger' or ''\n",
    "        )\n",
    "        \n",
    "        self.bgrrgb_tb=tb(\n",
    "            options=['BGR', 'RGB'],\n",
    "            disabled=False,\n",
    "            button_style='', # 'success', 'info', 'warning', 'danger' or ''\n",
    "            tooltips=['BGR', 'RGB'],\n",
    "            continuous_update=False\n",
    "        )\n",
    "    \n",
    "        self.contrast_sldr=srs(\n",
    "            options=list(range(0,513)),\n",
    "            index=self.hist_range,\n",
    "            description='Контраст',\n",
    "            disabled=False,\n",
    "            continuous_update=False\n",
    "        )\n",
    "        \n",
    "        self.size_sldr=IntSlider(\n",
    "            min=0,\n",
    "            max=1024,\n",
    "            step=10,\n",
    "            value=self.img_original.shape[0],\n",
    "            description='Размер:',\n",
    "            continuous_update=False\n",
    "        )\n",
    "        \n",
    "        self.blur_sldr=IntSlider(\n",
    "            min=1,\n",
    "            max=15,\n",
    "            step=2,\n",
    "            description='MedianBlur:',\n",
    "            continuous_update=False\n",
    "        )\n",
    "        \n",
    "        self.gamma_sldr=FloatSlider(\n",
    "            min=0.25,\n",
    "            max=5,\n",
    "            step=0.25,\n",
    "            value=1,\n",
    "            description='Гамма:',\n",
    "            continuous_update=False\n",
    "        )\n",
    "\n",
    "        self.format_b.on_click(self.change_format)\n",
    "        self.contrast_sldr.observe(self.change_range, names='value')\n",
    "        self.size_sldr.observe(self.change_size)\n",
    "        self.blur_sldr.observe(self.change_blur)\n",
    "        self.gamma_sldr.observe(self.update)\n",
    "        \n",
    "        self.menu=VBox([self.format_b, self.contrast_sldr, self.size_sldr, self.blur_sldr, self.gamma_sldr],\n",
    "                      layout = {'width': '*'})\n",
    "        self.out=HBox([self.menu,self.output])\n",
    "        self.change_range(self.hist_range)\n",
    "    \n",
    "    def __repr__(self):\n",
    "        display(self.out)\n",
    "        return ''\n",
    "    \n",
    "    def reset(self):\n",
    "        self.img=self.img_original\n",
    "        self.contrast_sldr.index=(0, 256)\n",
    "        self.blur_sldr.value=1\n",
    "        self.gamma_sldr.value=1\n",
    "    \n",
    "    def change_format(self, value):\n",
    "        self.img_original=cv2.cvtColor(self.img_original, 2)\n",
    "        self.update('reformat')\n",
    "\n",
    "    def change_range(self, v):\n",
    "        if not isinstance(v, tuple):\n",
    "            rng=v['new']\n",
    "        else:\n",
    "            rng=v\n",
    "        range_width = 1 if rng[1]==rng[0] else rng[1] - rng[0] #Заглушка от деления на нуль\n",
    "        self.hist_range = 256 / range_width, -rng[0]\n",
    "        self.update('range')\n",
    " \n",
    "    def change_size(self, value):\n",
    "        self.update('resize')\n",
    "    \n",
    "    def change_blur(self, value):\n",
    "        self.update('blur')\n",
    "\n",
    "    def change_gamma(self):\n",
    "        gamma=self.gamma_sldr.value\n",
    "        invGamma = 1.0 / gamma if gamma!=0 else 1\n",
    "        lut=np.array([((i/255.0) ** invGamma) * 255\n",
    "                    for i in np.arange(0,256)]).astype('uint8')\n",
    "        return cv2.LUT(self.img, lut)\n",
    "    \n",
    "    def hist(self, img):\n",
    "        return cv2.calcHist([img], [0],None,[256],[0,256])\n",
    "    \n",
    "    def update(self, value):\n",
    "        self.img=cv2.resize(self.img_original, (self.size_sldr.value,self.size_sldr.value), interpolation=cv2.INTER_LINEAR)\n",
    "        self.img1=cv2.convertScaleAbs(self.img, None, self.hist_range[0], self.hist_range[1])\n",
    "        self.img=cv2.medianBlur(self.img1, self.blur_sldr.value)\n",
    "        self.img1=self.change_gamma()\n",
    "        self.ax[0].clear()\n",
    "        self.ax[0].imshow(self.img1)\n",
    "        self.ax[1].clear()\n",
    "        self.ax[1].plot(self.hist(self.img1), color='black')"
   ]
  },
  {
   "cell_type": "code",
   "execution_count": 4,
   "metadata": {
    "scrolled": false
   },
   "outputs": [
    {
     "data": {
      "application/vnd.jupyter.widget-view+json": {
       "model_id": "16050a762a3c4e6885b9655560667632",
       "version_major": 2,
       "version_minor": 0
      },
      "text/plain": [
       "HBox(children=(VBox(children=(Button(description='Сменить формат', style=ButtonStyle()), SelectionRangeSlider(…"
      ]
     },
     "metadata": {},
     "output_type": "display_data"
    },
    {
     "data": {
      "text/plain": []
     },
     "execution_count": 4,
     "metadata": {},
     "output_type": "execute_result"
    }
   ],
   "source": [
    "a=Lab(lena)\n",
    "a"
   ]
  }
 ],
 "metadata": {
  "kernelspec": {
   "display_name": "Python 3",
   "language": "python",
   "name": "python3"
  },
  "language_info": {
   "codemirror_mode": {
    "name": "ipython",
    "version": 3
   },
   "file_extension": ".py",
   "mimetype": "text/x-python",
   "name": "python",
   "nbconvert_exporter": "python",
   "pygments_lexer": "ipython3",
   "version": "3.7.4"
  }
 },
 "nbformat": 4,
 "nbformat_minor": 4
}
